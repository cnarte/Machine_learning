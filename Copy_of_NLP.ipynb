{
  "nbformat": 4,
  "nbformat_minor": 0,
  "metadata": {
    "colab": {
      "name": "Copy of NLP.ipynb",
      "provenance": [],
      "collapsed_sections": [],
      "include_colab_link": true
    },
    "kernelspec": {
      "name": "python3",
      "display_name": "Python 3"
    },
    "accelerator": "GPU"
  },
  "cells": [
    {
      "cell_type": "markdown",
      "metadata": {
        "id": "view-in-github",
        "colab_type": "text"
      },
      "source": [
        "<a href=\"https://colab.research.google.com/github/cnarte/Machine_learning/blob/master/Copy_of_NLP.ipynb\" target=\"_parent\"><img src=\"https://colab.research.google.com/assets/colab-badge.svg\" alt=\"Open In Colab\"/></a>"
      ]
    },
    {
      "cell_type": "markdown",
      "metadata": {
        "id": "cNsd532OPFdU"
      },
      "source": [
        "A FEW THINGS TO KNOW BEFORE STARTING:\n",
        "PLEASE SWITCH YOUR RUNTIME TYPE TO GPU FROM YOUR LOCAL MACHINE."
      ]
    },
    {
      "cell_type": "markdown",
      "metadata": {
        "id": "QpRxyA9hMnIG"
      },
      "source": [
        "Hello Attendees!\n",
        "If you are here, we have reached the end of our journey.\n",
        "Its time to give you your Project to be. The best part!\n",
        "We have almost made it for you so that you dont have to code most of it.\n",
        "Your role as a learner would be to gain the most out of this notebook and try solving some of the code that we left for you to work on.\n",
        "To make searching for the codes easier you can use the documentation and guide by tensorflow.\n",
        "\n",
        "https://www.tensorflow.org/guide\n",
        "\n",
        "https://www.tensorflow.org/tutorials\n",
        "\n",
        "We will be explaining you all the codes written below and how to reach your final destination, i.e. a working twitter sentiment analysis project.\n",
        "\n",
        "To make it interesting for all of you, we promote experimentation on the existing code after the implementation of the said tasks. These can be a foundational notebook to build something better.\n",
        "\n",
        "This can be considered a template for YOUR code. So, we provide you with the full creative freedom to edit the dataset, use different models, change what predictions you want and the preprocessing. \n",
        "\n",
        "Your final task would be to write a small brief about what you did and make a simple report.\n",
        "\n",
        "This is your project, Its your empty canvas.\n",
        " \n",
        "We look forward to seeing you all with your ideas!\n",
        "\n",
        "In addition to this try deploying your model with the help of the example in the link provided below.\n",
        "https://www.tensorflow.org/tfx/tutorials/serving/rest_simple\n",
        "\n",
        "So, what are you waiting for?\n",
        "lets get this notebook working.\n",
        "\n"
      ]
    },
    {
      "cell_type": "markdown",
      "metadata": {
        "id": "5TDCJCaxOJrg"
      },
      "source": [
        "As usual we will start our project by importing the needed libraries. This step is already completed for you so that you only focus on the major parts."
      ]
    },
    {
      "cell_type": "code",
      "metadata": {
        "id": "t8Dwzvjsz9ZF"
      },
      "source": [
        "# DataFrame\n",
        "import pandas as pd\n",
        "\n",
        "# Matplot\n",
        "import matplotlib.pyplot as plt\n",
        "%matplotlib inline\n",
        "import plotly.express as px\n",
        "\n",
        "\n",
        "# Scikit-learn\n",
        "from sklearn.model_selection import train_test_split\n",
        "from sklearn.preprocessing import LabelEncoder\n",
        "from sklearn.metrics import confusion_matrix, classification_report, accuracy_score\n",
        "from sklearn.manifold import TSNE\n",
        "from sklearn.feature_extraction.text import TfidfVectorizer\n",
        "\n",
        "# Keras\n",
        "from keras.preprocessing.text import Tokenizer\n",
        "from keras.preprocessing.sequence import pad_sequences\n",
        "from keras.models import Sequential\n",
        "from keras.layers import Activation, Dense, Dropout, Embedding, Flatten, Conv1D, MaxPooling1D, LSTM\n",
        "from keras import utils\n",
        "from keras.callbacks import ReduceLROnPlateau, EarlyStopping\n",
        "\n",
        "# nltk\n",
        "import nltk\n",
        "from nltk.corpus import stopwords\n",
        "from  nltk.stem import SnowballStemmer\n",
        "\n",
        "# Word2vec\n",
        "import gensim\n",
        "\n",
        "# Utility\n",
        "import re\n",
        "import numpy as np\n",
        "import os\n",
        "from collections import Counter\n",
        "import logging\n",
        "import time\n",
        "import pickle\n",
        "import itertools\n",
        "import gc\n",
        "import pprint\n",
        "# Set log\n",
        "logging.basicConfig(format='%(asctime)s : %(levelname)s : %(message)s', level=logging.INFO)"
      ],
      "execution_count": 2,
      "outputs": []
    },
    {
      "cell_type": "markdown",
      "metadata": {
        "id": "8cf55qQ4OeZs"
      },
      "source": [
        "In the next step we have downloaded the needed stopwords so that they can be omitted while training the model.\n",
        "\n",
        "Stopwords are the English words which does not add much meaning to a sentence. They can safely be ignored without sacrificing the meaning of the sentence. ... Such words are already captured this in corpus named corpus.\n",
        "\n",
        "In simpler words, stopwords are words that dont bring you too much information when it comes to their value in a sentence."
      ]
    },
    {
      "cell_type": "code",
      "metadata": {
        "id": "IkHiSxnT0Iad",
        "outputId": "1a90cc5f-c979-4fb0-8e42-5744390d6efb",
        "colab": {
          "base_uri": "https://localhost:8080/",
          "height": 70
        }
      },
      "source": [
        "nltk.download('stopwords')"
      ],
      "execution_count": 3,
      "outputs": [
        {
          "output_type": "stream",
          "text": [
            "[nltk_data] Downloading package stopwords to /root/nltk_data...\n",
            "[nltk_data]   Package stopwords is already up-to-date!\n"
          ],
          "name": "stdout"
        },
        {
          "output_type": "execute_result",
          "data": {
            "text/plain": [
              "True"
            ]
          },
          "metadata": {
            "tags": []
          },
          "execution_count": 3
        }
      ]
    },
    {
      "cell_type": "markdown",
      "metadata": {
        "id": "mIvkkydyO8gh"
      },
      "source": [
        "We will now be uploading the csv files related to this notebook which is provided with this"
      ]
    },
    {
      "cell_type": "code",
      "metadata": {
        "id": "9j14nlWUfk1e",
        "outputId": "d184e2bb-b48c-4075-9d6a-2ddeba5c67b2",
        "colab": {
          "base_uri": "https://localhost:8080/",
          "height": 55
        }
      },
      "source": [
        "from google.colab import drive\n",
        "drive.mount('/content/drive')"
      ],
      "execution_count": 4,
      "outputs": [
        {
          "output_type": "stream",
          "text": [
            "Drive already mounted at /content/drive; to attempt to forcibly remount, call drive.mount(\"/content/drive\", force_remount=True).\n"
          ],
          "name": "stdout"
        }
      ]
    },
    {
      "cell_type": "markdown",
      "metadata": {
        "id": "IEZJxji6PSE_"
      },
      "source": [
        "We will now be defining some needed parameters that we will be using frequently in the code to remove any confusion and have a smooth operation. We will be using them in the code so do refer them incase you get stuck somewhere."
      ]
    },
    {
      "cell_type": "code",
      "metadata": {
        "id": "uitoYaVL0Pml"
      },
      "source": [
        "# DATASET\n",
        "DATASET_COLUMNS = [\"target\", \"ids\", \"date\", \"flag\", \"user\", \"text\"]\n",
        "DATASET_ENCODING = \"ISO-8859-1\"\n",
        "TRAIN_SIZE = 0.8\n",
        "\n",
        "# TEXT CLENAING\n",
        "TEXT_CLEANING_RE = \"@\\S+|https?:\\S+|http?:\\S|[^A-Za-z0-9]+\"\n",
        "\n",
        "# WORD2VEC \n",
        "W2V_SIZE = 100\n",
        "W2V_WINDOW = 7\n",
        "W2V_EPOCH = 20\n",
        "W2V_MIN_COUNT = 10\n",
        "\n",
        "# KERAS\n",
        "SEQUENCE_LENGTH = 300\n",
        "EPOCHS = 1\n",
        "BATCH_SIZE = 1024\n",
        "\n",
        "# SENTIMENT\n",
        "POSITIVE = \"POSITIVE\"\n",
        "NEGATIVE = \"NEGATIVE\"\n",
        "NEUTRAL = \"NEUTRAL\"\n",
        "SENTIMENT_THRESHOLDS = (0.4, 0.7)\n",
        "\n",
        "# EXPORT\n",
        "KERAS_MODEL = \"model.h5\"\n",
        "WORD2VEC_MODEL = \"model.w2v\"\n",
        "TOKENIZER_MODEL = \"tokenizer.pkl\"\n",
        "ENCODER_MODEL = \"encoder.pkl\""
      ],
      "execution_count": 5,
      "outputs": []
    },
    {
      "cell_type": "markdown",
      "metadata": {
        "id": "8sJSxFQQPivI"
      },
      "source": [
        "Here we create a pandas dataframe and save our csv file for further operations using pd.read_csv()."
      ]
    },
    {
      "cell_type": "code",
      "metadata": {
        "id": "4Tpmq6Pv0ps_"
      },
      "source": [
        "import io \n",
        "  \n",
        "df = pd.read_csv('/content/drive/My Drive/DEEPINFO CAPSTONE/Copy of training.1600000.processed.noemoticon.csv',encoding =DATASET_ENCODING,names=DATASET_COLUMNS)\n"
      ],
      "execution_count": 6,
      "outputs": []
    },
    {
      "cell_type": "markdown",
      "metadata": {
        "id": "90ZWKNJ6Pw5Y"
      },
      "source": [
        "We now see the number of entries we have stored in our dataset. From now on your role will be significant. So, lets get started!"
      ]
    },
    {
      "cell_type": "code",
      "metadata": {
        "id": "mjF9PLa8WKCS",
        "outputId": "76ba2a2d-6862-4de7-a0f4-1491e2a80e4b",
        "colab": {
          "base_uri": "https://localhost:8080/",
          "height": 35
        }
      },
      "source": [
        "print(\"Dataset size:\", len(df))"
      ],
      "execution_count": 7,
      "outputs": [
        {
          "output_type": "stream",
          "text": [
            "Dataset size: 1600000\n"
          ],
          "name": "stdout"
        }
      ]
    },
    {
      "cell_type": "markdown",
      "metadata": {
        "id": "GY28Vo9XQ5nM"
      },
      "source": [
        " Task 1:Display the first Five values"
      ]
    },
    {
      "cell_type": "markdown",
      "metadata": {
        "id": "cHjnUYfhP8Gv"
      },
      "source": [
        "View the first five values of the dataset. "
      ]
    },
    {
      "cell_type": "code",
      "metadata": {
        "id": "GUY-jHJbWRj_",
        "outputId": "6e748876-e01f-4da1-9a24-8275e8f1f512",
        "colab": {
          "base_uri": "https://localhost:8080/",
          "height": 380
        }
      },
      "source": [
        "df.head(5)"
      ],
      "execution_count": 8,
      "outputs": [
        {
          "output_type": "execute_result",
          "data": {
            "text/html": [
              "<div>\n",
              "<style scoped>\n",
              "    .dataframe tbody tr th:only-of-type {\n",
              "        vertical-align: middle;\n",
              "    }\n",
              "\n",
              "    .dataframe tbody tr th {\n",
              "        vertical-align: top;\n",
              "    }\n",
              "\n",
              "    .dataframe thead th {\n",
              "        text-align: right;\n",
              "    }\n",
              "</style>\n",
              "<table border=\"1\" class=\"dataframe\">\n",
              "  <thead>\n",
              "    <tr style=\"text-align: right;\">\n",
              "      <th></th>\n",
              "      <th>target</th>\n",
              "      <th>ids</th>\n",
              "      <th>date</th>\n",
              "      <th>flag</th>\n",
              "      <th>user</th>\n",
              "      <th>text</th>\n",
              "    </tr>\n",
              "  </thead>\n",
              "  <tbody>\n",
              "    <tr>\n",
              "      <th>0</th>\n",
              "      <td>0</td>\n",
              "      <td>1467810369</td>\n",
              "      <td>Mon Apr 06 22:19:45 PDT 2009</td>\n",
              "      <td>NO_QUERY</td>\n",
              "      <td>_TheSpecialOne_</td>\n",
              "      <td>@switchfoot http://twitpic.com/2y1zl - Awww, t...</td>\n",
              "    </tr>\n",
              "    <tr>\n",
              "      <th>1</th>\n",
              "      <td>0</td>\n",
              "      <td>1467810672</td>\n",
              "      <td>Mon Apr 06 22:19:49 PDT 2009</td>\n",
              "      <td>NO_QUERY</td>\n",
              "      <td>scotthamilton</td>\n",
              "      <td>is upset that he can't update his Facebook by ...</td>\n",
              "    </tr>\n",
              "    <tr>\n",
              "      <th>2</th>\n",
              "      <td>0</td>\n",
              "      <td>1467810917</td>\n",
              "      <td>Mon Apr 06 22:19:53 PDT 2009</td>\n",
              "      <td>NO_QUERY</td>\n",
              "      <td>mattycus</td>\n",
              "      <td>@Kenichan I dived many times for the ball. Man...</td>\n",
              "    </tr>\n",
              "    <tr>\n",
              "      <th>3</th>\n",
              "      <td>0</td>\n",
              "      <td>1467811184</td>\n",
              "      <td>Mon Apr 06 22:19:57 PDT 2009</td>\n",
              "      <td>NO_QUERY</td>\n",
              "      <td>ElleCTF</td>\n",
              "      <td>my whole body feels itchy and like its on fire</td>\n",
              "    </tr>\n",
              "    <tr>\n",
              "      <th>4</th>\n",
              "      <td>0</td>\n",
              "      <td>1467811193</td>\n",
              "      <td>Mon Apr 06 22:19:57 PDT 2009</td>\n",
              "      <td>NO_QUERY</td>\n",
              "      <td>Karoli</td>\n",
              "      <td>@nationwideclass no, it's not behaving at all....</td>\n",
              "    </tr>\n",
              "  </tbody>\n",
              "</table>\n",
              "</div>"
            ],
            "text/plain": [
              "   target  ...                                               text\n",
              "0       0  ...  @switchfoot http://twitpic.com/2y1zl - Awww, t...\n",
              "1       0  ...  is upset that he can't update his Facebook by ...\n",
              "2       0  ...  @Kenichan I dived many times for the ball. Man...\n",
              "3       0  ...    my whole body feels itchy and like its on fire \n",
              "4       0  ...  @nationwideclass no, it's not behaving at all....\n",
              "\n",
              "[5 rows x 6 columns]"
            ]
          },
          "metadata": {
            "tags": []
          },
          "execution_count": 8
        }
      ]
    },
    {
      "cell_type": "markdown",
      "metadata": {
        "id": "SDzNuqv9QD6h"
      },
      "source": [
        "After successfully viewing the starting entries, we now generate a decode map to segregate the tweets into three categories namely NEGATIVE NEUTRAL and POSITIVE."
      ]
    },
    {
      "cell_type": "code",
      "metadata": {
        "id": "LDh0mmbSWaqr"
      },
      "source": [
        "decode_map = {0: \"NEGATIVE\", 2: \"NEUTRAL\", 4: \"POSITIVE\"}\n",
        "def decode_sentiment(label):\n",
        "    return decode_map[int(label)]\n",
        "    "
      ],
      "execution_count": 9,
      "outputs": []
    },
    {
      "cell_type": "code",
      "metadata": {
        "id": "JuTBRoaCWf2V",
        "outputId": "aa819d77-8fe9-4c9c-ee41-3fa7bedc3f8f",
        "colab": {
          "base_uri": "https://localhost:8080/",
          "height": 53
        }
      },
      "source": [
        "%%time\n",
        "df.target = df.target.apply(lambda x: decode_sentiment(x))"
      ],
      "execution_count": 10,
      "outputs": [
        {
          "output_type": "stream",
          "text": [
            "CPU times: user 446 ms, sys: 0 ns, total: 446 ms\n",
            "Wall time: 449 ms\n"
          ],
          "name": "stdout"
        }
      ]
    },
    {
      "cell_type": "code",
      "metadata": {
        "id": "7-5LlO8bo-J0",
        "outputId": "d8307498-4ce6-4e3c-ea07-de3b5aaed835",
        "colab": {
          "base_uri": "https://localhost:8080/",
          "height": 35
        }
      },
      "source": [
        "df.columns"
      ],
      "execution_count": 11,
      "outputs": [
        {
          "output_type": "execute_result",
          "data": {
            "text/plain": [
              "Index(['target', 'ids', 'date', 'flag', 'user', 'text'], dtype='object')"
            ]
          },
          "metadata": {
            "tags": []
          },
          "execution_count": 11
        }
      ]
    },
    {
      "cell_type": "markdown",
      "metadata": {
        "id": "4c2HxCAJREdl"
      },
      "source": [
        "Task 2: Plot a bar chart of target variables\n",
        "\n",
        "Now you need to generate a bar chart of target variables using plt.figure(),plt.bar() etc. "
      ]
    },
    {
      "cell_type": "code",
      "metadata": {
        "id": "xW2TjluvWisI",
        "outputId": "51e79c98-8490-48ce-c4f3-da2db3e0adab",
        "colab": {
          "base_uri": "https://localhost:8080/",
          "height": 35
        }
      },
      "source": [
        "target_cnt = Counter(df.target)\n",
        "print(target_cnt)"
      ],
      "execution_count": 12,
      "outputs": [
        {
          "output_type": "stream",
          "text": [
            "Counter({'NEGATIVE': 800000, 'POSITIVE': 800000})\n"
          ],
          "name": "stdout"
        }
      ]
    },
    {
      "cell_type": "code",
      "metadata": {
        "id": "9DieDAvLWmwf"
      },
      "source": [
        "stop_words = stopwords.words(\"english\")\n",
        "stemmer = SnowballStemmer(\"english\")"
      ],
      "execution_count": 13,
      "outputs": []
    },
    {
      "cell_type": "markdown",
      "metadata": {
        "id": "OsokGqjXQp4i"
      },
      "source": [
        "Removal of special characters links and users will happen here with the following code using split text ,.append() and .join\n",
        "\n"
      ]
    },
    {
      "cell_type": "code",
      "metadata": {
        "id": "gqlsRZNtW6Ac"
      },
      "source": [
        "def preprocess(text, stem=False):\n",
        "    # Remove link,user and special characters\n",
        "    text = re.sub(TEXT_CLEANING_RE, ' ', str(text).lower()).strip()\n",
        "    tokens = []\n",
        "    for token in text.split():\n",
        "        if token not in stop_words:\n",
        "            if stem:\n",
        "                tokens.append(stemmer.stem(token))\n",
        "            else:\n",
        "                tokens.append(token)\n",
        "    return \" \".join(tokens)\n"
      ],
      "execution_count": 14,
      "outputs": []
    },
    {
      "cell_type": "code",
      "metadata": {
        "id": "PO2XhyR-W_Lt",
        "outputId": "ecf45852-15de-435a-87ae-c2b700d00aba",
        "colab": {
          "base_uri": "https://localhost:8080/",
          "height": 53
        }
      },
      "source": [
        "%%time\n",
        "df.text = df.text.apply(lambda x: preprocess(x))"
      ],
      "execution_count": 15,
      "outputs": [
        {
          "output_type": "stream",
          "text": [
            "CPU times: user 39.6 s, sys: 134 ms, total: 39.7 s\n",
            "Wall time: 39.7 s\n"
          ],
          "name": "stdout"
        }
      ]
    },
    {
      "cell_type": "markdown",
      "metadata": {
        "id": "WBv2ObvZRMc1"
      },
      "source": [
        "Task 3 Train Test split\n",
        "\n",
        "Your task will include splitting the train and test data in such a way that the test size is 0.8 with the random_state being 42. Print the sizes for the training subset and the test subset after successful implementation.\n",
        "\n"
      ]
    },
    {
      "cell_type": "code",
      "metadata": {
        "id": "pw7fVl5WXP_P"
      },
      "source": [
        "X_train, X_test, y_train, y_test = train_test_split(df, df.target, test_size=0.8, random_state=42)"
      ],
      "execution_count": 16,
      "outputs": []
    },
    {
      "cell_type": "code",
      "metadata": {
        "id": "cyyNPiYdz0VT",
        "outputId": "9ee64913-efe9-4ed5-f240-3ad1480ae79b",
        "colab": {
          "base_uri": "https://localhost:8080/",
          "height": 35
        }
      },
      "source": [
        "X_train.shape"
      ],
      "execution_count": 17,
      "outputs": [
        {
          "output_type": "execute_result",
          "data": {
            "text/plain": [
              "(320000, 6)"
            ]
          },
          "metadata": {
            "tags": []
          },
          "execution_count": 17
        }
      ]
    },
    {
      "cell_type": "code",
      "metadata": {
        "id": "uBnWd8Usz-ZO",
        "outputId": "9d2ecfec-d8c9-430a-cc8c-51500ecf278c",
        "colab": {
          "base_uri": "https://localhost:8080/",
          "height": 35
        }
      },
      "source": [
        "X_test.shape"
      ],
      "execution_count": 18,
      "outputs": [
        {
          "output_type": "execute_result",
          "data": {
            "text/plain": [
              "(1280000, 6)"
            ]
          },
          "metadata": {
            "tags": []
          },
          "execution_count": 18
        }
      ]
    },
    {
      "cell_type": "code",
      "metadata": {
        "id": "hmIuqQm2XWOE",
        "outputId": "5eecf1b2-f191-4e16-bd2b-8f4fd933bd8b",
        "colab": {
          "base_uri": "https://localhost:8080/",
          "height": 53
        }
      },
      "source": [
        "%%time\n",
        "documents = [_text.split() for _text in X_train.text] "
      ],
      "execution_count": 19,
      "outputs": [
        {
          "output_type": "stream",
          "text": [
            "CPU times: user 732 ms, sys: 61.9 ms, total: 793 ms\n",
            "Wall time: 796 ms\n"
          ],
          "name": "stdout"
        }
      ]
    },
    {
      "cell_type": "code",
      "metadata": {
        "id": "wOrjrh_tXaW9"
      },
      "source": [
        "w2v_model = gensim.models.word2vec.Word2Vec()"
      ],
      "execution_count": 20,
      "outputs": []
    },
    {
      "cell_type": "code",
      "metadata": {
        "id": "ap5D-o24Xc2u",
        "outputId": "6fbf288f-5ed5-432b-86d3-ea8fcd6a13e6",
        "colab": {
          "base_uri": "https://localhost:8080/",
          "height": 784
        }
      },
      "source": [
        "w2v_model.build_vocab(documents)"
      ],
      "execution_count": 21,
      "outputs": [
        {
          "output_type": "stream",
          "text": [
            "2020-10-10 19:08:04,960 : INFO : collecting all words and their counts\n",
            "2020-10-10 19:08:04,961 : INFO : PROGRESS: at sentence #0, processed 0 words, keeping 0 word types\n",
            "2020-10-10 19:08:04,986 : INFO : PROGRESS: at sentence #10000, processed 72275 words, keeping 13888 word types\n",
            "2020-10-10 19:08:05,002 : INFO : PROGRESS: at sentence #20000, processed 143685 words, keeping 21444 word types\n",
            "2020-10-10 19:08:05,023 : INFO : PROGRESS: at sentence #30000, processed 215629 words, keeping 27508 word types\n",
            "2020-10-10 19:08:05,045 : INFO : PROGRESS: at sentence #40000, processed 287040 words, keeping 32777 word types\n",
            "2020-10-10 19:08:05,063 : INFO : PROGRESS: at sentence #50000, processed 358550 words, keeping 37585 word types\n",
            "2020-10-10 19:08:05,084 : INFO : PROGRESS: at sentence #60000, processed 430582 words, keeping 42067 word types\n",
            "2020-10-10 19:08:05,109 : INFO : PROGRESS: at sentence #70000, processed 502201 words, keeping 46182 word types\n",
            "2020-10-10 19:08:05,128 : INFO : PROGRESS: at sentence #80000, processed 574098 words, keeping 50141 word types\n",
            "2020-10-10 19:08:05,145 : INFO : PROGRESS: at sentence #90000, processed 645782 words, keeping 53899 word types\n",
            "2020-10-10 19:08:05,165 : INFO : PROGRESS: at sentence #100000, processed 718534 words, keeping 57580 word types\n",
            "2020-10-10 19:08:05,182 : INFO : PROGRESS: at sentence #110000, processed 790004 words, keeping 61045 word types\n",
            "2020-10-10 19:08:05,201 : INFO : PROGRESS: at sentence #120000, processed 862654 words, keeping 64575 word types\n",
            "2020-10-10 19:08:05,222 : INFO : PROGRESS: at sentence #130000, processed 934619 words, keeping 67958 word types\n",
            "2020-10-10 19:08:05,241 : INFO : PROGRESS: at sentence #140000, processed 1007312 words, keeping 71263 word types\n",
            "2020-10-10 19:08:05,261 : INFO : PROGRESS: at sentence #150000, processed 1079429 words, keeping 74362 word types\n",
            "2020-10-10 19:08:05,280 : INFO : PROGRESS: at sentence #160000, processed 1151163 words, keeping 77401 word types\n",
            "2020-10-10 19:08:05,301 : INFO : PROGRESS: at sentence #170000, processed 1223446 words, keeping 80333 word types\n",
            "2020-10-10 19:08:05,320 : INFO : PROGRESS: at sentence #180000, processed 1295770 words, keeping 83288 word types\n",
            "2020-10-10 19:08:05,340 : INFO : PROGRESS: at sentence #190000, processed 1367781 words, keeping 86167 word types\n",
            "2020-10-10 19:08:05,362 : INFO : PROGRESS: at sentence #200000, processed 1439121 words, keeping 88970 word types\n",
            "2020-10-10 19:08:05,381 : INFO : PROGRESS: at sentence #210000, processed 1510793 words, keeping 91805 word types\n",
            "2020-10-10 19:08:05,399 : INFO : PROGRESS: at sentence #220000, processed 1583078 words, keeping 94621 word types\n",
            "2020-10-10 19:08:05,418 : INFO : PROGRESS: at sentence #230000, processed 1654363 words, keeping 97314 word types\n",
            "2020-10-10 19:08:05,436 : INFO : PROGRESS: at sentence #240000, processed 1725889 words, keeping 99890 word types\n",
            "2020-10-10 19:08:05,453 : INFO : PROGRESS: at sentence #250000, processed 1797176 words, keeping 102438 word types\n",
            "2020-10-10 19:08:05,471 : INFO : PROGRESS: at sentence #260000, processed 1869078 words, keeping 104966 word types\n",
            "2020-10-10 19:08:05,494 : INFO : PROGRESS: at sentence #270000, processed 1941009 words, keeping 107556 word types\n",
            "2020-10-10 19:08:05,514 : INFO : PROGRESS: at sentence #280000, processed 2013456 words, keeping 110134 word types\n",
            "2020-10-10 19:08:05,532 : INFO : PROGRESS: at sentence #290000, processed 2086125 words, keeping 112630 word types\n",
            "2020-10-10 19:08:05,552 : INFO : PROGRESS: at sentence #300000, processed 2158544 words, keeping 115072 word types\n",
            "2020-10-10 19:08:05,571 : INFO : PROGRESS: at sentence #310000, processed 2230899 words, keeping 117453 word types\n",
            "2020-10-10 19:08:05,597 : INFO : collected 119826 word types from a corpus of 2302487 raw words and 320000 sentences\n",
            "2020-10-10 19:08:05,598 : INFO : Loading a fresh vocabulary\n",
            "2020-10-10 19:08:05,666 : INFO : effective_min_count=5 retains 21295 unique words (17% of original 119826, drops 98531)\n",
            "2020-10-10 19:08:05,667 : INFO : effective_min_count=5 leaves 2166621 word corpus (94% of original 2302487, drops 135866)\n",
            "2020-10-10 19:08:05,726 : INFO : deleting the raw counts dictionary of 119826 items\n",
            "2020-10-10 19:08:05,729 : INFO : sample=0.001 downsamples 47 most-common words\n",
            "2020-10-10 19:08:05,730 : INFO : downsampling leaves estimated 2024576 word corpus (93.4% of prior 2166621)\n",
            "2020-10-10 19:08:05,778 : INFO : estimated required memory for 21295 words and 100 dimensions: 27683500 bytes\n",
            "2020-10-10 19:08:05,779 : INFO : resetting layer weights\n"
          ],
          "name": "stderr"
        }
      ]
    },
    {
      "cell_type": "markdown",
      "metadata": {
        "id": "XwyznsvgUrK-"
      },
      "source": [
        "After building vocabulary on the given tweets in the dataset we now see the size of our created vocabulary that will be helping us to judge to sentiment behind the tweet."
      ]
    },
    {
      "cell_type": "code",
      "metadata": {
        "id": "LbMXArmgXj3h",
        "outputId": "26bf51d6-2e3d-46ae-c5b0-954d25ca3fc3",
        "colab": {
          "base_uri": "https://localhost:8080/",
          "height": 35
        }
      },
      "source": [
        "words = w2v_model.wv.vocab.keys()\n",
        "vocab_size = len(words)\n",
        "print(\"Vocab size\", vocab_size)"
      ],
      "execution_count": 22,
      "outputs": [
        {
          "output_type": "stream",
          "text": [
            "Vocab size 21295\n"
          ],
          "name": "stdout"
        }
      ]
    },
    {
      "cell_type": "code",
      "metadata": {
        "id": "KtdSI_uY3CAR",
        "outputId": "9ad6474e-4e3b-4c39-e7b5-038b13ee1274",
        "colab": {
          "base_uri": "https://localhost:8080/",
          "height": 35
        }
      },
      "source": [
        "print(len(documents))"
      ],
      "execution_count": 23,
      "outputs": [
        {
          "output_type": "stream",
          "text": [
            "320000\n"
          ],
          "name": "stdout"
        }
      ]
    },
    {
      "cell_type": "markdown",
      "metadata": {
        "id": "ibw-5sOIRYWT"
      },
      "source": [
        "Task 4: We will now train the w2v model using w2v_model.train()\n",
        "with parameters as documents,total_examples=len(documents), epochs= look for the epochs in the parameters stored in the starting."
      ]
    },
    {
      "cell_type": "code",
      "metadata": {
        "id": "PymkaLuYXlMB",
        "outputId": "001d6dc4-f6b3-4310-d4be-205cf5fb9083",
        "colab": {
          "base_uri": "https://localhost:8080/",
          "height": 1000
        }
      },
      "source": [
        "%%time\n",
        "w2v_model.train(sentences=documents , total_examples=len(documents),epochs=20)"
      ],
      "execution_count": 24,
      "outputs": [
        {
          "output_type": "stream",
          "text": [
            "2020-10-10 19:08:09,564 : INFO : training model with 3 workers on 21295 vocabulary and 100 features, using sg=0 hs=0 sample=0.001 negative=5 window=5\n",
            "2020-10-10 19:08:10,592 : INFO : EPOCH 1 - PROGRESS: at 30.87% examples, 616888 words/s, in_qsize 5, out_qsize 0\n",
            "2020-10-10 19:08:11,610 : INFO : EPOCH 1 - PROGRESS: at 62.08% examples, 619253 words/s, in_qsize 6, out_qsize 0\n",
            "2020-10-10 19:08:12,639 : INFO : EPOCH 1 - PROGRESS: at 93.77% examples, 620590 words/s, in_qsize 4, out_qsize 1\n",
            "2020-10-10 19:08:12,803 : INFO : worker thread finished; awaiting finish of 2 more threads\n",
            "2020-10-10 19:08:12,805 : INFO : worker thread finished; awaiting finish of 1 more threads\n",
            "2020-10-10 19:08:12,816 : INFO : worker thread finished; awaiting finish of 0 more threads\n",
            "2020-10-10 19:08:12,817 : INFO : EPOCH - 1 : training on 2302487 raw words (2024652 effective words) took 3.2s, 625496 effective words/s\n",
            "2020-10-10 19:08:13,843 : INFO : EPOCH 2 - PROGRESS: at 30.45% examples, 604000 words/s, in_qsize 5, out_qsize 0\n",
            "2020-10-10 19:08:14,866 : INFO : EPOCH 2 - PROGRESS: at 62.07% examples, 615778 words/s, in_qsize 5, out_qsize 0\n",
            "2020-10-10 19:08:15,874 : INFO : EPOCH 2 - PROGRESS: at 93.77% examples, 622577 words/s, in_qsize 5, out_qsize 0\n",
            "2020-10-10 19:08:16,041 : INFO : worker thread finished; awaiting finish of 2 more threads\n",
            "2020-10-10 19:08:16,054 : INFO : worker thread finished; awaiting finish of 1 more threads\n",
            "2020-10-10 19:08:16,065 : INFO : worker thread finished; awaiting finish of 0 more threads\n",
            "2020-10-10 19:08:16,066 : INFO : EPOCH - 2 : training on 2302487 raw words (2024778 effective words) took 3.2s, 624694 effective words/s\n",
            "2020-10-10 19:08:17,082 : INFO : EPOCH 3 - PROGRESS: at 30.45% examples, 611749 words/s, in_qsize 5, out_qsize 0\n",
            "2020-10-10 19:08:18,082 : INFO : EPOCH 3 - PROGRESS: at 60.76% examples, 613476 words/s, in_qsize 5, out_qsize 0\n",
            "2020-10-10 19:08:19,089 : INFO : EPOCH 3 - PROGRESS: at 91.61% examples, 615537 words/s, in_qsize 5, out_qsize 0\n",
            "2020-10-10 19:08:19,339 : INFO : worker thread finished; awaiting finish of 2 more threads\n",
            "2020-10-10 19:08:19,341 : INFO : worker thread finished; awaiting finish of 1 more threads\n",
            "2020-10-10 19:08:19,347 : INFO : worker thread finished; awaiting finish of 0 more threads\n",
            "2020-10-10 19:08:19,348 : INFO : EPOCH - 3 : training on 2302487 raw words (2024953 effective words) took 3.3s, 618984 effective words/s\n",
            "2020-10-10 19:08:20,377 : INFO : EPOCH 4 - PROGRESS: at 30.44% examples, 602292 words/s, in_qsize 5, out_qsize 1\n",
            "2020-10-10 19:08:21,381 : INFO : EPOCH 4 - PROGRESS: at 60.76% examples, 607494 words/s, in_qsize 5, out_qsize 0\n",
            "2020-10-10 19:08:22,388 : INFO : EPOCH 4 - PROGRESS: at 90.74% examples, 605491 words/s, in_qsize 5, out_qsize 0\n",
            "2020-10-10 19:08:22,642 : INFO : worker thread finished; awaiting finish of 2 more threads\n",
            "2020-10-10 19:08:22,652 : INFO : worker thread finished; awaiting finish of 1 more threads\n",
            "2020-10-10 19:08:22,666 : INFO : worker thread finished; awaiting finish of 0 more threads\n",
            "2020-10-10 19:08:22,667 : INFO : EPOCH - 4 : training on 2302487 raw words (2024320 effective words) took 3.3s, 611326 effective words/s\n",
            "2020-10-10 19:08:23,689 : INFO : EPOCH 5 - PROGRESS: at 29.60% examples, 590176 words/s, in_qsize 5, out_qsize 0\n",
            "2020-10-10 19:08:24,690 : INFO : EPOCH 5 - PROGRESS: at 59.89% examples, 602408 words/s, in_qsize 5, out_qsize 0\n",
            "2020-10-10 19:08:25,706 : INFO : EPOCH 5 - PROGRESS: at 92.04% examples, 614994 words/s, in_qsize 5, out_qsize 0\n",
            "2020-10-10 19:08:25,940 : INFO : worker thread finished; awaiting finish of 2 more threads\n",
            "2020-10-10 19:08:25,946 : INFO : worker thread finished; awaiting finish of 1 more threads\n",
            "2020-10-10 19:08:25,947 : INFO : worker thread finished; awaiting finish of 0 more threads\n",
            "2020-10-10 19:08:25,948 : INFO : EPOCH - 5 : training on 2302487 raw words (2024682 effective words) took 3.3s, 618666 effective words/s\n",
            "2020-10-10 19:08:26,967 : INFO : EPOCH 6 - PROGRESS: at 30.02% examples, 602400 words/s, in_qsize 5, out_qsize 0\n",
            "2020-10-10 19:08:27,967 : INFO : EPOCH 6 - PROGRESS: at 60.77% examples, 613004 words/s, in_qsize 5, out_qsize 0\n",
            "2020-10-10 19:08:28,981 : INFO : EPOCH 6 - PROGRESS: at 92.04% examples, 616701 words/s, in_qsize 4, out_qsize 1\n",
            "2020-10-10 19:08:29,204 : INFO : worker thread finished; awaiting finish of 2 more threads\n",
            "2020-10-10 19:08:29,216 : INFO : worker thread finished; awaiting finish of 1 more threads\n",
            "2020-10-10 19:08:29,219 : INFO : worker thread finished; awaiting finish of 0 more threads\n",
            "2020-10-10 19:08:29,220 : INFO : EPOCH - 6 : training on 2302487 raw words (2024300 effective words) took 3.3s, 620921 effective words/s\n",
            "2020-10-10 19:08:30,243 : INFO : EPOCH 7 - PROGRESS: at 30.44% examples, 608474 words/s, in_qsize 5, out_qsize 0\n",
            "2020-10-10 19:08:31,263 : INFO : EPOCH 7 - PROGRESS: at 61.20% examples, 609913 words/s, in_qsize 4, out_qsize 1\n",
            "2020-10-10 19:08:32,279 : INFO : EPOCH 7 - PROGRESS: at 92.48% examples, 614231 words/s, in_qsize 5, out_qsize 0\n",
            "2020-10-10 19:08:32,483 : INFO : worker thread finished; awaiting finish of 2 more threads\n",
            "2020-10-10 19:08:32,489 : INFO : worker thread finished; awaiting finish of 1 more threads\n",
            "2020-10-10 19:08:32,496 : INFO : worker thread finished; awaiting finish of 0 more threads\n",
            "2020-10-10 19:08:32,497 : INFO : EPOCH - 7 : training on 2302487 raw words (2024971 effective words) took 3.3s, 620033 effective words/s\n",
            "2020-10-10 19:08:33,511 : INFO : EPOCH 8 - PROGRESS: at 30.44% examples, 612749 words/s, in_qsize 5, out_qsize 0\n",
            "2020-10-10 19:08:34,517 : INFO : EPOCH 8 - PROGRESS: at 60.33% examples, 607613 words/s, in_qsize 6, out_qsize 0\n",
            "2020-10-10 19:08:35,544 : INFO : EPOCH 8 - PROGRESS: at 91.17% examples, 607666 words/s, in_qsize 4, out_qsize 1\n",
            "2020-10-10 19:08:35,784 : INFO : worker thread finished; awaiting finish of 2 more threads\n",
            "2020-10-10 19:08:35,791 : INFO : worker thread finished; awaiting finish of 1 more threads\n",
            "2020-10-10 19:08:35,800 : INFO : worker thread finished; awaiting finish of 0 more threads\n",
            "2020-10-10 19:08:35,800 : INFO : EPOCH - 8 : training on 2302487 raw words (2024655 effective words) took 3.3s, 614712 effective words/s\n",
            "2020-10-10 19:08:36,825 : INFO : EPOCH 9 - PROGRESS: at 30.44% examples, 606266 words/s, in_qsize 5, out_qsize 0\n",
            "2020-10-10 19:08:37,833 : INFO : EPOCH 9 - PROGRESS: at 61.20% examples, 612659 words/s, in_qsize 5, out_qsize 0\n",
            "2020-10-10 19:08:38,842 : INFO : EPOCH 9 - PROGRESS: at 92.48% examples, 617499 words/s, in_qsize 5, out_qsize 0\n",
            "2020-10-10 19:08:39,073 : INFO : worker thread finished; awaiting finish of 2 more threads\n",
            "2020-10-10 19:08:39,078 : INFO : worker thread finished; awaiting finish of 1 more threads\n",
            "2020-10-10 19:08:39,084 : INFO : worker thread finished; awaiting finish of 0 more threads\n",
            "2020-10-10 19:08:39,085 : INFO : EPOCH - 9 : training on 2302487 raw words (2024389 effective words) took 3.3s, 618210 effective words/s\n",
            "2020-10-10 19:08:40,115 : INFO : EPOCH 10 - PROGRESS: at 30.01% examples, 594946 words/s, in_qsize 5, out_qsize 0\n",
            "2020-10-10 19:08:41,121 : INFO : EPOCH 10 - PROGRESS: at 60.76% examples, 607425 words/s, in_qsize 5, out_qsize 0\n",
            "2020-10-10 19:08:42,128 : INFO : EPOCH 10 - PROGRESS: at 91.17% examples, 608742 words/s, in_qsize 5, out_qsize 0\n",
            "2020-10-10 19:08:42,394 : INFO : worker thread finished; awaiting finish of 2 more threads\n",
            "2020-10-10 19:08:42,396 : INFO : worker thread finished; awaiting finish of 1 more threads\n",
            "2020-10-10 19:08:42,399 : INFO : worker thread finished; awaiting finish of 0 more threads\n",
            "2020-10-10 19:08:42,400 : INFO : EPOCH - 10 : training on 2302487 raw words (2024817 effective words) took 3.3s, 612644 effective words/s\n",
            "2020-10-10 19:08:43,423 : INFO : EPOCH 11 - PROGRESS: at 30.45% examples, 607182 words/s, in_qsize 5, out_qsize 0\n",
            "2020-10-10 19:08:44,442 : INFO : EPOCH 11 - PROGRESS: at 61.20% examples, 609795 words/s, in_qsize 5, out_qsize 0\n",
            "2020-10-10 19:08:45,443 : INFO : EPOCH 11 - PROGRESS: at 91.17% examples, 608502 words/s, in_qsize 5, out_qsize 0\n",
            "2020-10-10 19:08:45,715 : INFO : worker thread finished; awaiting finish of 2 more threads\n",
            "2020-10-10 19:08:45,720 : INFO : worker thread finished; awaiting finish of 1 more threads\n",
            "2020-10-10 19:08:45,721 : INFO : worker thread finished; awaiting finish of 0 more threads\n",
            "2020-10-10 19:08:45,722 : INFO : EPOCH - 11 : training on 2302487 raw words (2024359 effective words) took 3.3s, 611199 effective words/s\n",
            "2020-10-10 19:08:46,737 : INFO : EPOCH 12 - PROGRESS: at 30.02% examples, 603931 words/s, in_qsize 5, out_qsize 0\n",
            "2020-10-10 19:08:47,743 : INFO : EPOCH 12 - PROGRESS: at 59.89% examples, 603458 words/s, in_qsize 5, out_qsize 0\n",
            "2020-10-10 19:08:48,748 : INFO : EPOCH 12 - PROGRESS: at 89.48% examples, 600334 words/s, in_qsize 6, out_qsize 0\n",
            "2020-10-10 19:08:49,069 : INFO : worker thread finished; awaiting finish of 2 more threads\n",
            "2020-10-10 19:08:49,077 : INFO : worker thread finished; awaiting finish of 1 more threads\n",
            "2020-10-10 19:08:49,084 : INFO : worker thread finished; awaiting finish of 0 more threads\n",
            "2020-10-10 19:08:49,084 : INFO : EPOCH - 12 : training on 2302487 raw words (2024821 effective words) took 3.4s, 604047 effective words/s\n",
            "2020-10-10 19:08:50,116 : INFO : EPOCH 13 - PROGRESS: at 30.02% examples, 593658 words/s, in_qsize 5, out_qsize 0\n",
            "2020-10-10 19:08:51,126 : INFO : EPOCH 13 - PROGRESS: at 60.33% examples, 601507 words/s, in_qsize 5, out_qsize 0\n",
            "2020-10-10 19:08:52,138 : INFO : EPOCH 13 - PROGRESS: at 90.76% examples, 603610 words/s, in_qsize 5, out_qsize 0\n",
            "2020-10-10 19:08:52,415 : INFO : worker thread finished; awaiting finish of 2 more threads\n",
            "2020-10-10 19:08:52,422 : INFO : worker thread finished; awaiting finish of 1 more threads\n",
            "2020-10-10 19:08:52,426 : INFO : worker thread finished; awaiting finish of 0 more threads\n",
            "2020-10-10 19:08:52,427 : INFO : EPOCH - 13 : training on 2302487 raw words (2024865 effective words) took 3.3s, 607656 effective words/s\n",
            "2020-10-10 19:08:53,443 : INFO : EPOCH 14 - PROGRESS: at 29.60% examples, 593056 words/s, in_qsize 5, out_qsize 0\n",
            "2020-10-10 19:08:54,466 : INFO : EPOCH 14 - PROGRESS: at 59.89% examples, 597394 words/s, in_qsize 5, out_qsize 0\n",
            "2020-10-10 19:08:55,467 : INFO : EPOCH 14 - PROGRESS: at 89.47% examples, 597324 words/s, in_qsize 3, out_qsize 2\n",
            "2020-10-10 19:08:55,803 : INFO : worker thread finished; awaiting finish of 2 more threads\n",
            "2020-10-10 19:08:55,811 : INFO : worker thread finished; awaiting finish of 1 more threads\n",
            "2020-10-10 19:08:55,816 : INFO : worker thread finished; awaiting finish of 0 more threads\n",
            "2020-10-10 19:08:55,817 : INFO : EPOCH - 14 : training on 2302487 raw words (2024970 effective words) took 3.4s, 598848 effective words/s\n",
            "2020-10-10 19:08:56,839 : INFO : EPOCH 15 - PROGRESS: at 30.02% examples, 599021 words/s, in_qsize 5, out_qsize 0\n",
            "2020-10-10 19:08:57,858 : INFO : EPOCH 15 - PROGRESS: at 60.32% examples, 601710 words/s, in_qsize 5, out_qsize 0\n",
            "2020-10-10 19:08:58,867 : INFO : EPOCH 15 - PROGRESS: at 91.17% examples, 607221 words/s, in_qsize 5, out_qsize 0\n",
            "2020-10-10 19:08:59,127 : INFO : worker thread finished; awaiting finish of 2 more threads\n",
            "2020-10-10 19:08:59,132 : INFO : worker thread finished; awaiting finish of 1 more threads\n",
            "2020-10-10 19:08:59,140 : INFO : worker thread finished; awaiting finish of 0 more threads\n",
            "2020-10-10 19:08:59,141 : INFO : EPOCH - 15 : training on 2302487 raw words (2024965 effective words) took 3.3s, 610915 effective words/s\n",
            "2020-10-10 19:09:00,154 : INFO : EPOCH 16 - PROGRESS: at 29.17% examples, 586385 words/s, in_qsize 6, out_qsize 1\n",
            "2020-10-10 19:09:01,168 : INFO : EPOCH 16 - PROGRESS: at 59.45% examples, 596414 words/s, in_qsize 5, out_qsize 0\n",
            "2020-10-10 19:09:02,181 : INFO : EPOCH 16 - PROGRESS: at 89.91% examples, 600032 words/s, in_qsize 5, out_qsize 0\n",
            "2020-10-10 19:09:02,479 : INFO : worker thread finished; awaiting finish of 2 more threads\n",
            "2020-10-10 19:09:02,482 : INFO : worker thread finished; awaiting finish of 1 more threads\n",
            "2020-10-10 19:09:02,491 : INFO : worker thread finished; awaiting finish of 0 more threads\n",
            "2020-10-10 19:09:02,491 : INFO : EPOCH - 16 : training on 2302487 raw words (2024911 effective words) took 3.3s, 605818 effective words/s\n",
            "2020-10-10 19:09:03,509 : INFO : EPOCH 17 - PROGRESS: at 30.02% examples, 601966 words/s, in_qsize 5, out_qsize 0\n",
            "2020-10-10 19:09:04,533 : INFO : EPOCH 17 - PROGRESS: at 60.33% examples, 601441 words/s, in_qsize 4, out_qsize 1\n",
            "2020-10-10 19:09:05,542 : INFO : EPOCH 17 - PROGRESS: at 91.17% examples, 607017 words/s, in_qsize 5, out_qsize 0\n",
            "2020-10-10 19:09:05,801 : INFO : worker thread finished; awaiting finish of 2 more threads\n",
            "2020-10-10 19:09:05,811 : INFO : worker thread finished; awaiting finish of 1 more threads\n",
            "2020-10-10 19:09:05,815 : INFO : worker thread finished; awaiting finish of 0 more threads\n",
            "2020-10-10 19:09:05,816 : INFO : EPOCH - 17 : training on 2302487 raw words (2024530 effective words) took 3.3s, 610757 effective words/s\n",
            "2020-10-10 19:09:06,836 : INFO : EPOCH 18 - PROGRESS: at 29.60% examples, 591478 words/s, in_qsize 5, out_qsize 0\n",
            "2020-10-10 19:09:07,856 : INFO : EPOCH 18 - PROGRESS: at 60.32% examples, 601758 words/s, in_qsize 5, out_qsize 0\n",
            "2020-10-10 19:09:08,872 : INFO : EPOCH 18 - PROGRESS: at 91.61% examples, 608648 words/s, in_qsize 5, out_qsize 0\n",
            "2020-10-10 19:09:09,109 : INFO : worker thread finished; awaiting finish of 2 more threads\n",
            "2020-10-10 19:09:09,120 : INFO : worker thread finished; awaiting finish of 1 more threads\n",
            "2020-10-10 19:09:09,125 : INFO : worker thread finished; awaiting finish of 0 more threads\n",
            "2020-10-10 19:09:09,126 : INFO : EPOCH - 18 : training on 2302487 raw words (2024948 effective words) took 3.3s, 613429 effective words/s\n",
            "2020-10-10 19:09:10,145 : INFO : EPOCH 19 - PROGRESS: at 29.60% examples, 592232 words/s, in_qsize 6, out_qsize 2\n",
            "2020-10-10 19:09:11,156 : INFO : EPOCH 19 - PROGRESS: at 61.20% examples, 613324 words/s, in_qsize 5, out_qsize 0\n",
            "2020-10-10 19:09:12,158 : INFO : EPOCH 19 - PROGRESS: at 92.04% examples, 616458 words/s, in_qsize 6, out_qsize 0\n",
            "2020-10-10 19:09:12,374 : INFO : worker thread finished; awaiting finish of 2 more threads\n",
            "2020-10-10 19:09:12,387 : INFO : worker thread finished; awaiting finish of 1 more threads\n",
            "2020-10-10 19:09:12,394 : INFO : worker thread finished; awaiting finish of 0 more threads\n",
            "2020-10-10 19:09:12,395 : INFO : EPOCH - 19 : training on 2302487 raw words (2024437 effective words) took 3.3s, 621171 effective words/s\n",
            "2020-10-10 19:09:13,419 : INFO : EPOCH 20 - PROGRESS: at 30.02% examples, 598335 words/s, in_qsize 5, out_qsize 0\n",
            "2020-10-10 19:09:14,458 : INFO : EPOCH 20 - PROGRESS: at 61.20% examples, 604122 words/s, in_qsize 4, out_qsize 1\n",
            "2020-10-10 19:09:15,465 : INFO : EPOCH 20 - PROGRESS: at 92.04% examples, 609090 words/s, in_qsize 5, out_qsize 0\n",
            "2020-10-10 19:09:15,696 : INFO : worker thread finished; awaiting finish of 2 more threads\n",
            "2020-10-10 19:09:15,699 : INFO : worker thread finished; awaiting finish of 1 more threads\n",
            "2020-10-10 19:09:15,702 : INFO : worker thread finished; awaiting finish of 0 more threads\n",
            "2020-10-10 19:09:15,704 : INFO : EPOCH - 20 : training on 2302487 raw words (2024995 effective words) took 3.3s, 613882 effective words/s\n",
            "2020-10-10 19:09:15,704 : INFO : training on a 46049740 raw words (40494318 effective words) took 66.1s, 612262 effective words/s\n"
          ],
          "name": "stderr"
        },
        {
          "output_type": "stream",
          "text": [
            "CPU times: user 2min 4s, sys: 552 ms, total: 2min 4s\n",
            "Wall time: 1min 6s\n"
          ],
          "name": "stdout"
        },
        {
          "output_type": "execute_result",
          "data": {
            "text/plain": [
              "(40494318, 46049740)"
            ]
          },
          "metadata": {
            "tags": []
          },
          "execution_count": 24
        }
      ]
    },
    {
      "cell_type": "markdown",
      "metadata": {
        "id": "ctoMdoKlU9TC"
      },
      "source": [
        "To test our vocabulary bank we will now test our bank by asking it to give results that are most similar to the word \"love\". Feel free to test it for different words to understand the workings related to this."
      ]
    },
    {
      "cell_type": "code",
      "metadata": {
        "id": "2V3Iu1qeX1cc",
        "outputId": "53fbe63e-09d0-425f-8080-2a4ab7c9e85a",
        "colab": {
          "base_uri": "https://localhost:8080/",
          "height": 375
        }
      },
      "source": [
        "w2v_model.most_similar(\"love\")\n"
      ],
      "execution_count": 25,
      "outputs": [
        {
          "output_type": "stream",
          "text": [
            "/usr/local/lib/python3.6/dist-packages/ipykernel_launcher.py:1: DeprecationWarning:\n",
            "\n",
            "Call to deprecated `most_similar` (Method will be removed in 4.0.0, use self.wv.most_similar() instead).\n",
            "\n",
            "2020-10-10 19:09:15,713 : INFO : precomputing L2-norms of word weight vectors\n",
            "/usr/local/lib/python3.6/dist-packages/gensim/matutils.py:737: FutureWarning:\n",
            "\n",
            "Conversion of the second argument of issubdtype from `int` to `np.signedinteger` is deprecated. In future, it will be treated as `np.int64 == np.dtype(int).type`.\n",
            "\n"
          ],
          "name": "stderr"
        },
        {
          "output_type": "execute_result",
          "data": {
            "text/plain": [
              "[('luv', 0.6266830563545227),\n",
              " ('loves', 0.5968639850616455),\n",
              " ('adore', 0.569861888885498),\n",
              " ('looove', 0.5325645804405212),\n",
              " ('loved', 0.5317150354385376),\n",
              " ('loove', 0.5145713686943054),\n",
              " ('looooove', 0.5078535676002502),\n",
              " ('loveeee', 0.4965161383152008),\n",
              " ('loveee', 0.45919129252433777),\n",
              " ('duet', 0.4560692310333252)]"
            ]
          },
          "metadata": {
            "tags": []
          },
          "execution_count": 25
        }
      ]
    },
    {
      "cell_type": "markdown",
      "metadata": {
        "id": "jCWaQmDbRnTT"
      },
      "source": [
        "Task 5: Tokenizer Initialization\n",
        "\n",
        "We will now initialize a token by using Tokenizer() and .fit_on_texts\n",
        "\n",
        "\n"
      ]
    },
    {
      "cell_type": "code",
      "metadata": {
        "id": "C4szH3dSciNz",
        "outputId": "84937614-b30e-49f5-dc58-b502cbe58803",
        "colab": {
          "base_uri": "https://localhost:8080/",
          "height": 70
        }
      },
      "source": [
        "%%time\n",
        "tk = Tokenizer()\n",
        "tk.fit_on_texts(documents)\n",
        "vocab_size = len(tk.word_index) + 1\n",
        "print(\"Total words\", vocab_size)"
      ],
      "execution_count": 26,
      "outputs": [
        {
          "output_type": "stream",
          "text": [
            "Total words 119827\n",
            "CPU times: user 2.09 s, sys: 104 ms, total: 2.19 s\n",
            "Wall time: 2.1 s\n"
          ],
          "name": "stdout"
        }
      ]
    },
    {
      "cell_type": "code",
      "metadata": {
        "id": "MQOchnVFcoui",
        "outputId": "9f3c27e4-b61f-454d-88c5-f7f99520e2ee",
        "colab": {
          "base_uri": "https://localhost:8080/",
          "height": 53
        }
      },
      "source": [
        "%%time\n",
        "x_train = pad_sequences(tk.texts_to_sequences(X_train.text), maxlen=SEQUENCE_LENGTH)\n",
        "x_test = pad_sequences(tk.texts_to_sequences(X_test.text), maxlen=SEQUENCE_LENGTH)"
      ],
      "execution_count": 27,
      "outputs": [
        {
          "output_type": "stream",
          "text": [
            "CPU times: user 22.9 s, sys: 482 ms, total: 23.3 s\n",
            "Wall time: 23.4 s\n"
          ],
          "name": "stdout"
        }
      ]
    },
    {
      "cell_type": "code",
      "metadata": {
        "id": "JsZIqJBfFj6q"
      },
      "source": [
        ""
      ],
      "execution_count": 27,
      "outputs": []
    },
    {
      "cell_type": "markdown",
      "metadata": {
        "id": "FxRmUILqRvha"
      },
      "source": [
        " Task 6: Append NEUTRAL to target list\n",
        " name it as \"labels\" or store it in labels\n",
        "\n",
        " you can use df_train.target.unique().tolist() \n",
        " and then use append()"
      ]
    },
    {
      "cell_type": "code",
      "metadata": {
        "id": "w8LW-FL2cr6Q",
        "outputId": "b3ed2fa3-36fb-4801-d399-2b6ee812c5b8",
        "colab": {
          "base_uri": "https://localhost:8080/",
          "height": 35
        }
      },
      "source": [
        "labels = X_train.target.unique().tolist()\n",
        "labels.append('NEUTRAL')\n",
        "print(labels)"
      ],
      "execution_count": 29,
      "outputs": [
        {
          "output_type": "stream",
          "text": [
            "['NEGATIVE', 'POSITIVE', 'NEUTRAL']\n"
          ],
          "name": "stdout"
        }
      ]
    },
    {
      "cell_type": "markdown",
      "metadata": {
        "id": "J_1h-6AmR4FJ"
      },
      "source": [
        "Here we create an encoder and then fit it along with using transform() on y_train and y_test. This will be continued by reshaping y_train and y_test."
      ]
    },
    {
      "cell_type": "code",
      "metadata": {
        "id": "i7cCI2elcunx",
        "outputId": "91e53601-bebd-4335-bd52-f4ac05b4bd85",
        "colab": {
          "base_uri": "https://localhost:8080/",
          "height": 53
        }
      },
      "source": [
        "encoder = LabelEncoder()\n",
        "encoder.fit(X_train.target.tolist())\n",
        "\n",
        "y_train = encoder.transform(X_train.target.tolist())\n",
        "y_test = encoder.transform(X_test.target.tolist())\n",
        "\n",
        "y_train = y_train.reshape(-1,1)\n",
        "y_test = y_test.reshape(-1,1)\n",
        "\n",
        "print(\"y_train\",y_train.shape)\n",
        "print(\"y_test\",y_test.shape)"
      ],
      "execution_count": 30,
      "outputs": [
        {
          "output_type": "stream",
          "text": [
            "y_train (320000, 1)\n",
            "y_test (1280000, 1)\n"
          ],
          "name": "stdout"
        }
      ]
    },
    {
      "cell_type": "markdown",
      "metadata": {
        "id": "5vr3vqeRR-6l"
      },
      "source": [
        "Task 7: Print shapes of x_train, x_test, y_test , y_train."
      ]
    },
    {
      "cell_type": "code",
      "metadata": {
        "id": "MG9pAgMHcvjy",
        "outputId": "e01ae1d8-41f4-4a54-ad71-5af01e731a3c",
        "colab": {
          "base_uri": "https://localhost:8080/",
          "height": 88
        }
      },
      "source": [
        "print(x_train.shape,\"\\n\", x_test.shape,\"\\n\" ,y_test.shape ,\"\\n\" ,y_train.shape)\n"
      ],
      "execution_count": 31,
      "outputs": [
        {
          "output_type": "stream",
          "text": [
            "(320000, 300) \n",
            " (1280000, 300) \n",
            " (1280000, 1) \n",
            " (320000, 1)\n"
          ],
          "name": "stdout"
        }
      ]
    },
    {
      "cell_type": "code",
      "metadata": {
        "id": "zwQZIawoc2sl",
        "outputId": "69ec186a-5010-45c3-b0c2-787ac25facba",
        "colab": {
          "base_uri": "https://localhost:8080/",
          "height": 195
        }
      },
      "source": [
        "y_train[:10]\n"
      ],
      "execution_count": 32,
      "outputs": [
        {
          "output_type": "execute_result",
          "data": {
            "text/plain": [
              "array([[0],\n",
              "       [1],\n",
              "       [1],\n",
              "       [0],\n",
              "       [1],\n",
              "       [1],\n",
              "       [0],\n",
              "       [0],\n",
              "       [1],\n",
              "       [0]])"
            ]
          },
          "metadata": {
            "tags": []
          },
          "execution_count": 32
        }
      ]
    },
    {
      "cell_type": "code",
      "metadata": {
        "id": "OGG_7UDSc_WH",
        "outputId": "b3c62149-716f-41fb-a8ed-eac76a2aecd2",
        "colab": {
          "base_uri": "https://localhost:8080/",
          "height": 35
        }
      },
      "source": [
        "embedding_matrix = np.zeros((vocab_size, W2V_SIZE))\n",
        "for word, i in tk.word_index.items():\n",
        "  if word in w2v_model.wv:\n",
        "    embedding_matrix[i] = w2v_model.wv[word]\n",
        "print(embedding_matrix.shape)"
      ],
      "execution_count": 33,
      "outputs": [
        {
          "output_type": "stream",
          "text": [
            "(119827, 100)\n"
          ],
          "name": "stdout"
        }
      ]
    },
    {
      "cell_type": "code",
      "metadata": {
        "id": "9daR_dykdCpZ"
      },
      "source": [
        "embedding_layer = Embedding(vocab_size, W2V_SIZE, weights=[embedding_matrix], input_length=SEQUENCE_LENGTH, trainable=False)\n"
      ],
      "execution_count": 34,
      "outputs": []
    },
    {
      "cell_type": "markdown",
      "metadata": {
        "id": "gBtODDOVSD3S"
      },
      "source": [
        "Task 8: Store Sequential() in model \n",
        "and add an embedding layer, a dropout =0.5, use LTSM with the followinig parameters (100, dropout=0.2 and recuurent dropout to be 0.2 as well).\n",
        "\n",
        "add a dense layer with parameters (1 and an activation function to be \"sigmoid\")\n",
        "\n",
        "print the model summary as well"
      ]
    },
    {
      "cell_type": "code",
      "metadata": {
        "id": "E2fw2EOrdD8O",
        "outputId": "30a3882a-f0cd-4903-fb66-391678eb1992",
        "colab": {
          "base_uri": "https://localhost:8080/",
          "height": 73
        }
      },
      "source": [
        "model = Sequential()\n",
        "model.add(embedding_layer)\n",
        "model.add(LSTM(100, dropout=0.2, recurrent_dropout=0.2))\n",
        "model.add(Dense(1, activation='sigmoid'))"
      ],
      "execution_count": 35,
      "outputs": [
        {
          "output_type": "stream",
          "text": [
            "WARNING:tensorflow:Layer lstm will not use cuDNN kernel since it doesn't meet the cuDNN kernel criteria. It will use generic GPU kernel as fallback when running on GPU\n"
          ],
          "name": "stdout"
        },
        {
          "output_type": "stream",
          "text": [
            "2020-10-10 19:10:13,072 : WARNING : Layer lstm will not use cuDNN kernel since it doesn't meet the cuDNN kernel criteria. It will use generic GPU kernel as fallback when running on GPU\n"
          ],
          "name": "stderr"
        }
      ]
    },
    {
      "cell_type": "markdown",
      "metadata": {
        "id": "BtQe2r82SLkd"
      },
      "source": [
        "Task 9: Compile the created model with binary crossentropy alongside adam as an optimizer with accuracy as metrics."
      ]
    },
    {
      "cell_type": "code",
      "metadata": {
        "id": "MCz4k6LEdUNL",
        "outputId": "2a5f9a89-b7fc-4026-bff0-a9cb95a8e976",
        "colab": {
          "base_uri": "https://localhost:8080/",
          "height": 55
        }
      },
      "source": [
        "model.compile(loss='binary_crossentropy', optimizer='adam', metrics=['accuracy'])\n",
        "print(model)"
      ],
      "execution_count": 36,
      "outputs": [
        {
          "output_type": "stream",
          "text": [
            "<tensorflow.python.keras.engine.sequential.Sequential object at 0x7f164600fd30>\n"
          ],
          "name": "stdout"
        }
      ]
    },
    {
      "cell_type": "code",
      "metadata": {
        "id": "6557pbTPdZny"
      },
      "source": [
        "callbacks = [ ReduceLROnPlateau(monitor='val_loss', patience=5, cooldown=0),\n",
        "              EarlyStopping(monitor='val_acc', min_delta=1e-4, patience=5)]"
      ],
      "execution_count": 37,
      "outputs": []
    },
    {
      "cell_type": "markdown",
      "metadata": {
        "id": "w_jKQhpoSboc"
      },
      "source": [
        "Task 10: Fit the model as 'history' with the needed parameters:\n",
        "x_train, y_train,\n",
        "\n",
        "batch_size=BATCH_SIZE,\n",
        "\n",
        "epochs=EPOCHS,\n",
        "\n",
        "validation_split=0.1,\n",
        "\n",
        "verbose=1,\n",
        "\n",
        "callbacks=callbacks\n",
        "\n",
        "NOTE: feel free to change the batch size and epochs to optimize your model and bringing about changes that you feel will help.\n"
      ]
    },
    {
      "cell_type": "code",
      "metadata": {
        "id": "9v5IxyGPde-U",
        "outputId": "cb7acd25-d6b9-4a26-f4dd-52160fcf488b",
        "colab": {
          "base_uri": "https://localhost:8080/",
          "height": 126
        }
      },
      "source": [
        "%%time\n",
        "history = model.fit(x=x_train,y=y_train,batch_size= BATCH_SIZE,epochs= EPOCHS,validation_split=0.1,verbose=1,callbacks=callbacks)"
      ],
      "execution_count": 38,
      "outputs": [
        {
          "output_type": "stream",
          "text": [
            "282/282 [==============================] - ETA: 0s - loss: 0.5171 - accuracy: 0.7416WARNING:tensorflow:Early stopping conditioned on metric `val_acc` which is not available. Available metrics are: loss,accuracy,val_loss,val_accuracy,lr\n"
          ],
          "name": "stdout"
        },
        {
          "output_type": "stream",
          "text": [
            "2020-10-10 19:15:02,818 : WARNING : Early stopping conditioned on metric `val_acc` which is not available. Available metrics are: loss,accuracy,val_loss,val_accuracy,lr\n"
          ],
          "name": "stderr"
        },
        {
          "output_type": "stream",
          "text": [
            "\b\b\b\b\b\b\b\b\b\b\b\b\b\b\b\b\b\b\b\b\b\b\b\b\b\b\b\b\b\b\b\b\b\b\b\b\b\b\b\b\b\b\b\b\b\b\b\b\b\b\b\b\b\b\b\b\b\b\b\b\b\b\b\b\b\b\b\b\b\b\b\b\b\b\b\b\b\b\b\b\b\b\b\b\r282/282 [==============================] - 285s 1s/step - loss: 0.5171 - accuracy: 0.7416 - val_loss: 0.4832 - val_accuracy: 0.7666\n",
            "CPU times: user 6min 50s, sys: 1min 2s, total: 7min 53s\n",
            "Wall time: 4min 49s\n"
          ],
          "name": "stdout"
        }
      ]
    },
    {
      "cell_type": "code",
      "metadata": {
        "id": "T1ukIlzziTpG",
        "outputId": "5fd925a5-7d67-4a8a-d261-de1d186330f6",
        "colab": {
          "base_uri": "https://localhost:8080/",
          "height": 35
        }
      },
      "source": [
        "print(history.history['loss'])"
      ],
      "execution_count": 39,
      "outputs": [
        {
          "output_type": "stream",
          "text": [
            "[0.5171446800231934]\n"
          ],
          "name": "stdout"
        }
      ]
    },
    {
      "cell_type": "markdown",
      "metadata": {
        "id": "8ZSjgqOXSpYL"
      },
      "source": [
        "Task 11:Evaluate the needed model and print out the accuracy and loss."
      ]
    },
    {
      "cell_type": "code",
      "metadata": {
        "id": "xJKhBIK9dkkI",
        "outputId": "432b2d6d-4d95-4560-c82a-ec0d3035a33b",
        "colab": {
          "base_uri": "https://localhost:8080/",
          "height": 70
        }
      },
      "source": [
        "%%time\n",
        "scores = model.evaluate(x_test, y_test, verbose=0)\n",
        "print(\"Accuracy: %.2f%%\" % (scores[1]*100))"
      ],
      "execution_count": 40,
      "outputs": [
        {
          "output_type": "stream",
          "text": [
            "Accuracy: 76.57%\n",
            "CPU times: user 45min 38s, sys: 1min 23s, total: 47min 1s\n",
            "Wall time: 44min 16s\n"
          ],
          "name": "stdout"
        }
      ]
    },
    {
      "cell_type": "markdown",
      "metadata": {
        "id": "Sb16bmzlSvpQ"
      },
      "source": [
        "Task 12: You now need to plot accuracy,validation_accuracy, loss and validation_loss graphs to see the trend in which your model learned"
      ]
    },
    {
      "cell_type": "code",
      "metadata": {
        "id": "1-rLYMg3dpcX"
      },
      "source": [
        "accuracy = history.history['accuracy']\n",
        "val_accuracy = history.history['val_accuracy']\n",
        "loss = history.history['loss']\n",
        "val_loss = history.history['val_loss']\n",
        " \n",
        "epochs = range(len(accuracy))\n",
        " \n",
        "##"
      ],
      "execution_count": 41,
      "outputs": []
    },
    {
      "cell_type": "code",
      "metadata": {
        "id": "aua95Rmrdp2W"
      },
      "source": [
        "def decode_sentiment(score, include_neutral=True):\n",
        "    if include_neutral:        \n",
        "        label = NEUTRAL\n",
        "        if score <= SENTIMENT_THRESHOLDS[0]:\n",
        "            label = NEGATIVE\n",
        "        elif score >= SENTIMENT_THRESHOLDS[1]:\n",
        "            label = POSITIVE\n",
        "\n",
        "        return label\n",
        "    else:\n",
        "        return NEGATIVE if score < 0.5 else POSITIVE"
      ],
      "execution_count": 42,
      "outputs": []
    },
    {
      "cell_type": "code",
      "metadata": {
        "id": "2x6XMNTmdqKA"
      },
      "source": [
        "def predict(text, include_neutral=True):\n",
        "    start_at = time.time()\n",
        "    # Tokenize text\n",
        "    x_test = pad_sequences(tk.texts_to_sequences([text]), maxlen=SEQUENCE_LENGTH)\n",
        "    # Predict\n",
        "    score = model.predict([x_test])[0]\n",
        "    # Decode sentiment\n",
        "    label = decode_sentiment(score, include_neutral=include_neutral)\n",
        "\n",
        "    return {\"label\": label, \"score\": float(score),\n",
        "       \"elapsed_time\": time.time()-start_at}  "
      ],
      "execution_count": 43,
      "outputs": []
    },
    {
      "cell_type": "markdown",
      "metadata": {
        "id": "yJEtyioqS26a"
      },
      "source": [
        "Task 13: You need to create an example like the ones below to test it on that."
      ]
    },
    {
      "cell_type": "code",
      "metadata": {
        "id": "KUaXHi8bdqXv",
        "outputId": "4998dc0c-9858-43c8-911c-b021beb3db8f",
        "colab": {
          "base_uri": "https://localhost:8080/",
          "height": 70
        }
      },
      "source": [
        "predict(\"loved it\")"
      ],
      "execution_count": 44,
      "outputs": [
        {
          "output_type": "execute_result",
          "data": {
            "text/plain": [
              "{'elapsed_time': 0.3055260181427002,\n",
              " 'label': 'POSITIVE',\n",
              " 'score': 0.7817886471748352}"
            ]
          },
          "metadata": {
            "tags": []
          },
          "execution_count": 44
        }
      ]
    },
    {
      "cell_type": "code",
      "metadata": {
        "id": "A_N403e7drKF",
        "outputId": "c5d2f533-0d0b-4aa6-a57f-534032f76433",
        "colab": {
          "base_uri": "https://localhost:8080/",
          "height": 70
        }
      },
      "source": [
        "predict(\"I hate the rain\")"
      ],
      "execution_count": 45,
      "outputs": [
        {
          "output_type": "execute_result",
          "data": {
            "text/plain": [
              "{'elapsed_time': 0.09422683715820312,\n",
              " 'label': 'NEGATIVE',\n",
              " 'score': 0.02518615312874317}"
            ]
          },
          "metadata": {
            "tags": []
          },
          "execution_count": 45
        }
      ]
    },
    {
      "cell_type": "code",
      "metadata": {
        "id": "cP6xEOwvdrv5",
        "outputId": "7c33dd34-36c8-4842-8183-d90db5829930",
        "colab": {
          "base_uri": "https://localhost:8080/",
          "height": 70
        }
      },
      "source": [
        "predict(\"i don't know what i'm doing\")"
      ],
      "execution_count": 46,
      "outputs": [
        {
          "output_type": "execute_result",
          "data": {
            "text/plain": [
              "{'elapsed_time': 0.09103536605834961,\n",
              " 'label': 'NEUTRAL',\n",
              " 'score': 0.5690711736679077}"
            ]
          },
          "metadata": {
            "tags": []
          },
          "execution_count": 46
        }
      ]
    },
    {
      "cell_type": "code",
      "metadata": {
        "id": "BbeOvmafdsCt",
        "outputId": "4a28ff6d-9a47-4aca-aeb7-7bb7c8a4e2a8",
        "colab": {
          "base_uri": "https://localhost:8080/",
          "height": 70
        }
      },
      "source": [
        "%%time\n",
        "y_pred_1d = []\n",
        "y_test_1d = list(X_test.target)\n",
        "scores = model.predict(x_test, verbose=1, batch_size=8000)\n",
        "y_pred_1d = [decode_sentiment(score, include_neutral=False) for score in scores]"
      ],
      "execution_count": 47,
      "outputs": [
        {
          "output_type": "stream",
          "text": [
            "160/160 [==============================] - 129s 804ms/step\n",
            "CPU times: user 1min 29s, sys: 44.8 s, total: 2min 13s\n",
            "Wall time: 2min 11s\n"
          ],
          "name": "stdout"
        }
      ]
    },
    {
      "cell_type": "markdown",
      "metadata": {
        "id": "_jLasKxGS7Uy"
      },
      "source": [
        "Task 14 : You need to plot the confusion matrix. Snippets of the code will be provided, you need to fill in the required blanks to make it a genuine code"
      ]
    },
    {
      "cell_type": "code",
      "metadata": {
        "id": "k4R5yx_HdsXe"
      },
      "source": [
        "def plot_confusion_matrix(cm, classes,\n",
        "                          title='Confusion matrix',\n",
        "                          cmap=plt.cm.Blues):\n",
        "   \n",
        "    cm = cm.astype('float') / cm.sum(axis=1)[:, np.newaxis]\n",
        "\n",
        "    plt.imshow(cm)\n",
        "    plt.title(title, fontsize=30)\n",
        "    plt.colorbar()\n",
        "    tick_marks = np.arange(len(classes))\n",
        "    plt.xticks(rotation = -45)\n",
        "    plt.yticks(tick_marks, classes, fontsize=22)\n",
        "    fmt= \".2f\"\n",
        "    \n",
        "    thresh = cm.max() / 2.\n",
        "    \n",
        "    for i, j in itertools.product(range(cm.shape[0]), range(cm.shape[1])):\n",
        "        plt.text(j, i, format(cm[i, j], fmt),\n",
        "                 horizontalalignment=\"center\",\n",
        "                 color=\"white\" if cm[i, j] > thresh else \"black\")\n",
        "        "
      ],
      "execution_count": 48,
      "outputs": []
    },
    {
      "cell_type": "code",
      "metadata": {
        "id": "0q0dgNJrdsqC",
        "outputId": "3548970f-cfec-4ce6-b5a8-002e46495bbe",
        "colab": {
          "base_uri": "https://localhost:8080/",
          "height": 610
        }
      },
      "source": [
        "%%time\n",
        "\n",
        "cnf_matrix = confusion_matrix(y_test_1d, y_pred_1d)\n",
        "plt.figure(figsize=(10,10))\n",
        "plot_confusion_matrix(cnf_matrix, classes=X_train.target.unique(), title=\"Confusion matrix\")\n",
        "plt.show()"
      ],
      "execution_count": 49,
      "outputs": [
        {
          "output_type": "display_data",
          "data": {
            "image/png": "[encoded data removed]",
            "text/plain": [
              "<Figure size 720x720 with 2 Axes>"
            ]
          },
          "metadata": {
            "tags": [],
            "needs_background": "light"
          }
        },
        {
          "output_type": "stream",
          "text": [
            "CPU times: user 3.36 s, sys: 115 ms, total: 3.48 s\n",
            "Wall time: 3.49 s\n"
          ],
          "name": "stdout"
        }
      ]
    },
    {
      "cell_type": "code",
      "metadata": {
        "id": "eBtQpLZXeMaY",
        "outputId": "6e55fb39-1e0f-405e-cb35-ebc999fc67be",
        "colab": {
          "base_uri": "https://localhost:8080/",
          "height": 177
        }
      },
      "source": [
        "print(classification_report(y_test_1d, y_pred_1d))"
      ],
      "execution_count": 50,
      "outputs": [
        {
          "output_type": "stream",
          "text": [
            "              precision    recall  f1-score   support\n",
            "\n",
            "    NEGATIVE       0.77      0.76      0.76    640104\n",
            "    POSITIVE       0.76      0.77      0.77    639896\n",
            "\n",
            "    accuracy                           0.77   1280000\n",
            "   macro avg       0.77      0.77      0.77   1280000\n",
            "weighted avg       0.77      0.77      0.77   1280000\n",
            "\n"
          ],
          "name": "stdout"
        }
      ]
    },
    {
      "cell_type": "code",
      "metadata": {
        "id": "Quhy9k86TADz"
      },
      "source": [
        "accuracyscore = accuracy_score( y_true= y_test_1d, y_pred= y_pred_1d)"
      ],
      "execution_count": 51,
      "outputs": []
    },
    {
      "cell_type": "markdown",
      "metadata": {
        "id": "pW-4Dy7kS_K4"
      },
      "source": [
        "Task 15: Print out accuracy score for the classification."
      ]
    },
    {
      "cell_type": "code",
      "metadata": {
        "id": "2GGa1JYXePCu",
        "outputId": "8eda96d5-a4d0-4151-8860-bcad8d194f59",
        "colab": {
          "base_uri": "https://localhost:8080/",
          "height": 35
        }
      },
      "source": [
        "print(accuracyscore)"
      ],
      "execution_count": 52,
      "outputs": [
        {
          "output_type": "stream",
          "text": [
            "0.76565859375\n"
          ],
          "name": "stdout"
        }
      ]
    },
    {
      "cell_type": "markdown",
      "metadata": {
        "id": "fF5SFPADTCV8"
      },
      "source": [
        "Task 16: Save your model and w2v_model and dump tokenizer and encoder."
      ]
    },
    {
      "cell_type": "code",
      "metadata": {
        "id": "D4SzjmuEePYe",
        "outputId": "7e780c1e-a949-45cf-d60a-a65342394ca9",
        "colab": {
          "base_uri": "https://localhost:8080/",
          "height": 205
        }
      },
      "source": [
        "with open('nlp-ank.pickle', 'wb') as handle:\n",
        "    pickle.dump([tk,model], handle, protocol=pickle.HIGHEST_PROTOCOL)\n",
        "    "
      ],
      "execution_count": 60,
      "outputs": [
        {
          "output_type": "error",
          "ename": "TypeError",
          "evalue": "ignored",
          "traceback": [
            "\u001b[0;31m---------------------------------------------------------------------------\u001b[0m",
            "\u001b[0;31mTypeError\u001b[0m                                 Traceback (most recent call last)",
            "\u001b[0;32m<ipython-input-60-8ef5881828fd>\u001b[0m in \u001b[0;36m<module>\u001b[0;34m()\u001b[0m\n\u001b[1;32m      1\u001b[0m \u001b[0;32mwith\u001b[0m \u001b[0mopen\u001b[0m\u001b[0;34m(\u001b[0m\u001b[0;34m'nlp-ank.pickle'\u001b[0m\u001b[0;34m,\u001b[0m \u001b[0;34m'wb'\u001b[0m\u001b[0;34m)\u001b[0m \u001b[0;32mas\u001b[0m \u001b[0mhandle\u001b[0m\u001b[0;34m:\u001b[0m\u001b[0;34m\u001b[0m\u001b[0;34m\u001b[0m\u001b[0m\n\u001b[0;32m----> 2\u001b[0;31m     \u001b[0mpickle\u001b[0m\u001b[0;34m.\u001b[0m\u001b[0mdump\u001b[0m\u001b[0;34m(\u001b[0m\u001b[0;34m[\u001b[0m\u001b[0mtk\u001b[0m\u001b[0;34m,\u001b[0m\u001b[0mmodel\u001b[0m\u001b[0;34m]\u001b[0m\u001b[0;34m,\u001b[0m \u001b[0mhandle\u001b[0m\u001b[0;34m,\u001b[0m \u001b[0mprotocol\u001b[0m\u001b[0;34m=\u001b[0m\u001b[0mpickle\u001b[0m\u001b[0;34m.\u001b[0m\u001b[0mHIGHEST_PROTOCOL\u001b[0m\u001b[0;34m)\u001b[0m\u001b[0;34m\u001b[0m\u001b[0;34m\u001b[0m\u001b[0m\n\u001b[0m\u001b[1;32m      3\u001b[0m \u001b[0;34m\u001b[0m\u001b[0m\n",
            "\u001b[0;31mTypeError\u001b[0m: can't pickle _thread.RLock objects"
          ]
        }
      ]
    },
    {
      "cell_type": "code",
      "metadata": {
        "id": "qHRUDuNVE7Qs"
      },
      "source": [
        "p"
      ],
      "execution_count": null,
      "outputs": []
    },
    {
      "cell_type": "code",
      "metadata": {
        "id": "TNi0ICn2ePo9"
      },
      "source": [
        "gc.collect()"
      ],
      "execution_count": null,
      "outputs": []
    }
  ]
}